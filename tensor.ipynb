{
 "nbformat": 4,
 "nbformat_minor": 2,
 "metadata": {
  "language_info": {
   "name": "python",
   "codemirror_mode": {
    "name": "ipython",
    "version": 3
   },
   "version": "3.7.6-final"
  },
  "orig_nbformat": 2,
  "file_extension": ".py",
  "mimetype": "text/x-python",
  "name": "python",
  "npconvert_exporter": "python",
  "pygments_lexer": "ipython3",
  "version": 3,
  "kernelspec": {
   "name": "python37664bitpy3torchconda33f19dde13b14c2ebca707d4db2ddc27",
   "display_name": "Python 3.7.6 64-bit ('py3torch': conda)"
  }
 },
 "cells": [
  {
   "cell_type": "code",
   "execution_count": 4,
   "metadata": {},
   "outputs": [
    {
     "output_type": "stream",
     "name": "stdout",
     "text": "1.4.0\n"
    }
   ],
   "source": [
    "import torch\n",
    "print(torch.__version__)"
   ]
  },
  {
   "cell_type": "code",
   "execution_count": 5,
   "metadata": {},
   "outputs": [
    {
     "output_type": "stream",
     "name": "stdout",
     "text": "tensor([[1.9432e-19, 1.8390e+25, 1.9346e-19],\n        [7.3909e+22, 1.5986e+34, 1.1626e+27],\n        [8.9666e-33, 1.3563e-19, 1.8578e-01],\n        [3.9177e-02, 4.7429e+30, 5.5272e+31]])\ntensor([[0.9921, 0.5225, 0.1617],\n        [0.4690, 0.2504, 0.4426],\n        [0.3112, 0.8051, 0.5572],\n        [0.3202, 0.6927, 0.1051]])\ntensor([[0., 0., 0.],\n        [0., 0., 0.],\n        [0., 0., 0.],\n        [0., 0., 0.]])\ntensor([[5.5000, 2.0000],\n        [4.0000, 4.0000],\n        [5.0000, 5.0000]])\n"
    }
   ],
   "source": [
    "x = torch.empty(4, 3)\n",
    "print(x)\n",
    "y = torch.rand(4, 3)\n",
    "print(y)\n",
    "z = torch.zeros(4, 3)\n",
    "print(z)\n",
    "xx = torch.tensor([[5.5, 2], [4, 4], [5, 5]])\n",
    "print(xx)"
   ]
  },
  {
   "cell_type": "code",
   "execution_count": 6,
   "metadata": {},
   "outputs": [
    {
     "output_type": "stream",
     "name": "stdout",
     "text": "tensor([[1., 1., 1.],\n        [1., 1., 1.],\n        [1., 1., 1.],\n        [1., 1., 1.],\n        [1., 1., 1.]], dtype=torch.float64)\ntensor([[ 1.8305, -0.3083,  0.3470],\n        [-0.0136, -0.0527, -0.2404],\n        [-0.3606,  2.0276,  0.4898],\n        [-0.1182,  1.3824,  2.0509],\n        [ 0.6822,  0.5540,  0.0027]], dtype=torch.float64)\ntorch.Size([5, 3])\n"
    }
   ],
   "source": [
    "x = x.new_ones(5, 3, dtype=torch.double)\n",
    "print(x)\n",
    "x = torch.randn_like(x, dtype=torch.double)\n",
    "print(x)\n",
    "print(x.size())"
   ]
  },
  {
   "cell_type": "code",
   "execution_count": 7,
   "metadata": {},
   "outputs": [
    {
     "output_type": "stream",
     "name": "stdout",
     "text": "tensor([[ 1.8305, -0.3083,  0.3470],\n        [-0.0136, -0.0527, -0.2404],\n        [-0.3606,  2.0276,  0.4898],\n        [-0.1182,  1.3824,  2.0509],\n        [ 0.6822,  0.5540,  0.0027]], dtype=torch.float64) \n tensor([[0.1498, 0.9018, 0.8314],\n        [0.5947, 0.3928, 0.3350],\n        [0.5778, 0.0913, 0.2488],\n        [0.3022, 0.5480, 0.6777],\n        [0.2924, 0.7014, 0.8706]], dtype=torch.float64)\n"
    }
   ],
   "source": [
    "#　标准均匀分布\n",
    "y = torch.rand_like(x, dtype=torch.double)\n",
    "#　标准正态分布\n",
    "z = torch.randn_like(x, dtype=torch.double)\n",
    "print(x, '\\n', y)"
   ]
  },
  {
   "cell_type": "code",
   "execution_count": 8,
   "metadata": {},
   "outputs": [
    {
     "output_type": "stream",
     "name": "stdout",
     "text": "tensor([[ 1.8305, -0.3083,  0.3470],\n        [-0.0136, -0.0527, -0.2404],\n        [-0.3606,  2.0276,  0.4898],\n        [-0.1182,  1.3824,  2.0509],\n        [ 0.6822,  0.5540,  0.0027]], dtype=torch.float64) \n tensor([[0.9481, 0.5242, 0.9490],\n        [0.9678, 0.8324, 0.5089],\n        [0.6318, 0.1144, 0.7257],\n        [0.7907, 0.4431, 0.1664],\n        [0.6330, 0.7538, 0.1193]], dtype=torch.float64)\ntensor([[2.7786, 0.2158, 1.2960],\n        [0.9543, 0.7797, 0.2685],\n        [0.2712, 2.1420, 1.2155],\n        [0.6724, 1.8255, 2.2173],\n        [1.3152, 1.3078, 0.1220]], dtype=torch.float64)\ntensor([[2.7786, 0.2158, 1.2960],\n        [0.9543, 0.7797, 0.2685],\n        [0.2712, 2.1420, 1.2155],\n        [0.6724, 1.8255, 2.2173],\n        [1.3152, 1.3078, 0.1220]], dtype=torch.float64)\ntensor([[2.7786, 0.2158, 1.2960],\n        [0.9543, 0.7797, 0.2685],\n        [0.2712, 2.1420, 1.2155],\n        [0.6724, 1.8255, 2.2173],\n        [1.3152, 1.3078, 0.1220]])\ntensor([[2.7786, 0.2158, 1.2960],\n        [0.9543, 0.7797, 0.2685],\n        [0.2712, 2.1420, 1.2155],\n        [0.6724, 1.8255, 2.2173],\n        [1.3152, 1.3078, 0.1220]], dtype=torch.float64)\n"
    }
   ],
   "source": [
    "# 加法\n",
    "y = torch.rand(5, 3, dtype=torch.double)\n",
    "print(x, '\\n', y)\n",
    "print(x + y)\n",
    "print(torch.add(x, y))\n",
    "\n",
    "result = torch.empty(5, 3)\n",
    "torch.add(x, y, out=result)\n",
    "print(result)\n",
    "\n",
    "# 任何使张量会发生变化的操作都有一个前缀'_'\n",
    "y.add_(x)\n",
    "print(y)"
   ]
  },
  {
   "cell_type": "code",
   "execution_count": 9,
   "metadata": {},
   "outputs": [
    {
     "output_type": "stream",
     "name": "stdout",
     "text": "torch.Size([6, 6]) \n torch.Size([36]) \n torch.Size([2, 18]) \n torch.Size([4, 9])\n"
    }
   ],
   "source": [
    "x = torch.rand(6, 6)\n",
    "# 改变一个 tensor 的大小或者形状\n",
    "y = x.view(36)\n",
    "z = x.view(-1, 18)  # -1 表示由另一个维度决定\n",
    "zz = x.view(-1, 9)\n",
    "print(x.size(), '\\n', y.size(), '\\n', z.size(), '\\n', zz.size())"
   ]
  },
  {
   "cell_type": "code",
   "execution_count": 10,
   "metadata": {},
   "outputs": [
    {
     "output_type": "stream",
     "name": "stdout",
     "text": "tensor(0.4901)\n0.490146279335022\n"
    }
   ],
   "source": [
    "# 使用.item()来获得元素tensor的value\n",
    "print(x[3,3])\n",
    "print(x[3, 3].item())"
   ]
  }
 ]
}